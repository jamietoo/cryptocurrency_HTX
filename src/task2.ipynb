{
 "cells": [
  {
   "cell_type": "code",
   "execution_count": 1,
   "id": "82f4ff60-d093-4662-b054-89571a2c2510",
   "metadata": {},
   "outputs": [],
   "source": [
    "import os\n",
    "import argparse\n",
    "import requests\n",
    "import pandas as pd\n",
    "import matplotlib.pyplot as plt"
   ]
  },
  {
   "cell_type": "code",
   "execution_count": 2,
   "id": "29bf3b49-6676-4f8d-bf8d-48dfe98d52fa",
   "metadata": {},
   "outputs": [],
   "source": [
    "COINGECKO_URL = \"https://api.coingecko.com/api/v3/coins/bitcoin/market_chart?vs_currency=usd&days=30\"\n"
   ]
  },
  {
   "cell_type": "code",
   "execution_count": 18,
   "id": "a97a38fd-2818-432d-b47a-63a4d990ed02",
   "metadata": {},
   "outputs": [],
   "source": [
    "def fetch_token_data(token=\"bitcoin\", days=30, vs=\"usd\"):\n",
    "    \"\"\"\n",
    "    Pull token price + volume data from CoinGecko.\n",
    "    \"\"\"\n",
    "    try:\n",
    "        url = COINGECKO_URL.format(token=token)\n",
    "        resp = requests.get(url, params={\"vs_currency\": vs, \"days\": days}, timeout=30)\n",
    "        resp.raise_for_status()\n",
    "        data = resp.json()\n",
    "    except Exception as e:\n",
    "        print(\"[!] fetch failed:\", e)\n",
    "        return pd.DataFrame() \n",
    "\n",
    "    prices = pd.DataFrame(data.get(\"prices\", []), columns=[\"ts\", \"price\"])\n",
    "    volumes = pd.DataFrame(data.get(\"total_volumes\", []), columns=[\"ts\", \"volume\"])\n",
    "    prices[\"ts\"] = pd.to_datetime(prices[\"ts\"], unit=\"ms\")\n",
    "    volumes[\"ts\"] = pd.to_datetime(volumes[\"ts\"], unit=\"ms\")\n",
    "    df = prices.merge(volumes, on=\"ts\")\n",
    "    return df\n",
    "def plot_anomalies(df, token=\"bitcoin\", out_path=\"out/task2_analysis.png\"):\n",
    "    \"\"\"\n",
    "    Plot volume over time and flag unusual spikes.\n",
    "    \"\"\"\n",
    "    if df.empty:\n",
    "        print(\"[i] no data to plot\")\n",
    "        return\n",
    "\n"
   ]
  },
  {
   "cell_type": "code",
   "execution_count": 23,
   "id": "2b53aec8-bd23-499d-ae2e-b2c0b8ab4192",
   "metadata": {},
   "outputs": [
    {
     "name": "stdout",
     "output_type": "stream",
     "text": [
      "                       ts          price        volume\n",
      "0 2025-08-15 05:03:19.015  118938.144721  6.404961e+10\n",
      "1 2025-08-15 06:01:35.001  119044.658024  6.782145e+10\n",
      "2 2025-08-15 07:02:27.043  119160.515384  6.535684e+10\n",
      "3 2025-08-15 08:03:03.800  119084.851975  6.927510e+10\n",
      "4 2025-08-15 09:03:08.736  118970.546313  6.787412e+10\n",
      "[saved] /Users/jamietoo/Downloads/cryptocurrency/src/out/task2_doge.png\n"
     ]
    }
   ],
   "source": [
    "df = fetch_token_data(\"dogecoin\", days=30)\n",
    "\n",
    "print(df.head())\n",
    "\n",
    "\n",
    "out_path = \"out/task2_doge.png\"\n",
    "token = \"dogecoin\"\n",
    "\n",
    "threshold = df[\"volume\"].mean() + 2 * df[\"volume\"].std()\n",
    "spikes = df[df[\"volume\"] > threshold]\n",
    "\n",
    "plt.figure(figsize=(12, 6))\n",
    "plt.plot(df[\"ts\"], df[\"volume\"], label=\"Volume\", color=\"orange\")\n",
    "plt.scatter(spikes[\"ts\"], spikes[\"volume\"], color=\"red\", label=\"suspicious spike\")\n",
    "plt.title(f\"{token.upper()} trading volume (last {len(df)//24} days)\")\n",
    "plt.xlabel(\"Date\")\n",
    "plt.ylabel(\"Volume\")\n",
    "plt.legend()\n",
    "plt.tight_layout()\n",
    "plt.savefig(out_path, dpi=200)\n",
    "plt.close()\n",
    "\n",
    "abs_path = os.path.abspath(out_path)\n",
    "print(f\"[saved] {abs_path}\")\n",
    "\n"
   ]
  },
  {
   "cell_type": "code",
   "execution_count": 27,
   "id": "450159bc-ad4f-417d-b79a-a87538307350",
   "metadata": {},
   "outputs": [],
   "source": [
    "def parse_arguments():\n",
    "    import sys\n",
    "    ap = argparse.ArgumentParser()\n",
    "    ap.add_argument(\"--token\", default=\"bitcoin\", help=\"coin id (e.g. bitcoin, ethereum, dogecoin)\")\n",
    "    ap.add_argument(\"--days\", type=int, default=30, help=\"days of history (7/14/30)\")\n",
    "    ap.add_argument(\"--out\", default=\"out/task2_analysis.png\", help=\"output PNG path\")\n",
    "\n",
    "\n",
    "    if \"ipykernel\" in sys.modules:\n",
    "        return ap.parse_args([])   \n",
    "    return ap.parse_args()"
   ]
  },
  {
   "cell_type": "code",
   "execution_count": 28,
   "id": "de9f837a-5d25-403c-8335-ea1a49e51ba4",
   "metadata": {},
   "outputs": [
    {
     "name": "stdout",
     "output_type": "stream",
     "text": [
      "[i] fetching bitcoin data for 30 days…\n",
      "[i] plotting anomalies…\n"
     ]
    }
   ],
   "source": [
    "def main():\n",
    "    args = parse_arguments()\n",
    "    print(f\"[i] fetching {args.token} data for {args.days} days…\")\n",
    "    df = fetch_token_data(args.token, args.days)\n",
    "\n",
    "    if df.empty:\n",
    "        print(\"[!] no data fetched, exiting\")\n",
    "        return\n",
    "\n",
    "    print(\"[i] plotting anomalies…\")\n",
    "    plot_anomalies(df, args.token, args.out)\n",
    "\n",
    "\n",
    "if __name__ == \"__main__\":\n",
    "    main()"
   ]
  },
  {
   "cell_type": "code",
   "execution_count": null,
   "id": "a3cb1908-9b01-4d66-ae27-3f9743901712",
   "metadata": {},
   "outputs": [],
   "source": []
  }
 ],
 "metadata": {
  "kernelspec": {
   "display_name": "Python [conda env:base] *",
   "language": "python",
   "name": "conda-base-py"
  },
  "language_info": {
   "codemirror_mode": {
    "name": "ipython",
    "version": 3
   },
   "file_extension": ".py",
   "mimetype": "text/x-python",
   "name": "python",
   "nbconvert_exporter": "python",
   "pygments_lexer": "ipython3",
   "version": "3.13.5"
  }
 },
 "nbformat": 4,
 "nbformat_minor": 5
}
